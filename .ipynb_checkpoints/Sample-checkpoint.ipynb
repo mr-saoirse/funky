{
 "cells": [
  {
   "cell_type": "code",
   "execution_count": 1,
   "id": "254d5fba",
   "metadata": {},
   "outputs": [],
   "source": [
    "import funkyprompt\n",
    "from funkyprompt.core import Function\n",
    "\n",
    "\"\"\"test type\"\"\"\n",
    "\n",
    "import pytest\n",
    "import typing\n",
    "from uuid import UUID\n",
    "from enum import Enum\n",
    "from pydantic import BaseModel\n",
    "\n",
    "from funkyprompt.core import Function\n",
    "\n",
    "\n",
    "class AType(BaseModel):\n",
    "    name: str\n",
    "\n",
    "\n",
    "class EnumExample(Enum):\n",
    "    choice_a = \"a\"\n",
    "    choice_b = \"b\"\n",
    "\n",
    "\n",
    "def test_function(\n",
    "    a: str,\n",
    "    b: int,\n",
    "    c: typing.Optional[int | float],\n",
    "    context: AType,\n",
    "    l: typing.List[str] = None,\n",
    "    l2: typing.List[str | dict] = None,\n",
    "    choices: EnumExample = None,\n",
    "    e: UUID | str = None,\n",
    "    id: str = None,\n",
    "    metadata: dict = None,\n",
    "):\n",
    "    \"\"\"some details\n",
    "\n",
    "    Args:\n",
    "        a (str): _description_\n",
    "        b (int): _description_\n",
    "        c (typing.Optional[int | float]): _description_\n",
    "        context (AType): _description_\n",
    "        l (typing.List[str], optional): _description_. Defaults to None.\n",
    "    \"\"\"\n",
    "    return True\n"
   ]
  },
  {
   "cell_type": "code",
   "execution_count": 2,
   "id": "9fbc2654",
   "metadata": {},
   "outputs": [
    {
     "data": {
      "text/plain": [
       "True"
      ]
     },
     "execution_count": 2,
     "metadata": {},
     "output_type": "execute_result"
    }
   ],
   "source": [
    "F = Function.from_callable(test_function)\n",
    "F('a',1, 1, None)"
   ]
  },
  {
   "cell_type": "code",
   "execution_count": 3,
   "id": "1a0651bc",
   "metadata": {},
   "outputs": [
    {
     "data": {
      "text/plain": [
       "{'type': 'function',\n",
       " 'function': {'name': 'test_function',\n",
       "  'description': 'some details\\n',\n",
       "  'parameters': {'type': 'object',\n",
       "   'properties': [{'a': {'type': 'string', 'description': '_description_'}},\n",
       "    {'b': {'type': 'integer', 'description': '_description_'}},\n",
       "    {'c': {'type': 'integer', 'description': '_description_'}},\n",
       "    {'context': {'type': 'object', 'description': '_description_'}},\n",
       "    {'l': {'type': 'list', 'description': '_description_. Defaults to None.'}},\n",
       "    {'l2': {'type': 'list', 'description': 'None'}},\n",
       "    {'choices': {'type': 'string',\n",
       "      'description': 'None',\n",
       "      'enums': ['a', 'b']}},\n",
       "    {'e': {'type': 'object', 'description': 'None'}},\n",
       "    {'id': {'type': 'string', 'description': 'None'}},\n",
       "    {'metadata': {'type': 'object', 'description': 'None'}}]}}}"
      ]
     },
     "execution_count": 3,
     "metadata": {},
     "output_type": "execute_result"
    }
   ],
   "source": [
    "x = F.to_json_spec()\n",
    "x\n",
    "#len(x['function']['parameters']['properties'])"
   ]
  },
  {
   "cell_type": "code",
   "execution_count": 5,
   "id": "da6cc6e7",
   "metadata": {
    "scrolled": false
   },
   "outputs": [
    {
     "data": {
      "text/plain": [
       "[FunctionParameter(name='a', is_required=True, description='_description_', type='string', enum_options=[]),\n",
       " FunctionParameter(name='b', is_required=True, description='_description_', type='integer', enum_options=[]),\n",
       " FunctionParameter(name='c', is_required=False, description='_description_', type='integer', enum_options=[]),\n",
       " FunctionParameter(name='context', is_required=True, description='_description_', type='object', enum_options=[]),\n",
       " FunctionParameter(name='l', is_required=False, description='_description_. Defaults to None.', type='list', enum_options=[]),\n",
       " FunctionParameter(name='l2', is_required=False, description='None', type='list', enum_options=[]),\n",
       " FunctionParameter(name='choices', is_required=False, description='None', type='string', enum_options=['a', 'b']),\n",
       " FunctionParameter(name='e', is_required=False, description='None', type='object', enum_options=[]),\n",
       " FunctionParameter(name='id', is_required=False, description='None', type='string', enum_options=[]),\n",
       " FunctionParameter(name='metadata', is_required=False, description='None', type='object', enum_options=[])]"
      ]
     },
     "execution_count": 5,
     "metadata": {},
     "output_type": "execute_result"
    }
   ],
   "source": [
    "X = F.model_dump()\n",
    "\n",
    "Function(**X).parameters"
   ]
  },
  {
   "cell_type": "code",
   "execution_count": null,
   "id": "f60366d0",
   "metadata": {},
   "outputs": [],
   "source": []
  }
 ],
 "metadata": {
  "kernelspec": {
   "display_name": "Python 3 (ipykernel)",
   "language": "python",
   "name": "python3"
  },
  "language_info": {
   "codemirror_mode": {
    "name": "ipython",
    "version": 3
   },
   "file_extension": ".py",
   "mimetype": "text/x-python",
   "name": "python",
   "nbconvert_exporter": "python",
   "pygments_lexer": "ipython3",
   "version": "3.10.10"
  }
 },
 "nbformat": 4,
 "nbformat_minor": 5
}
