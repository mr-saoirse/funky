{
 "cells": [
  {
   "cell_type": "code",
   "execution_count": 1,
   "id": "b3f64fb2",
   "metadata": {},
   "outputs": [],
   "source": [
    "import funkyprompt\n",
    "from funkyprompt.core import Function, load_entities\n"
   ]
  },
  {
   "cell_type": "code",
   "execution_count": 2,
   "id": "79d30ff5",
   "metadata": {},
   "outputs": [
    {
     "data": {
      "text/plain": [
       "[funkyprompt.core.agents.Plan.Plan,\n",
       " funkyprompt.core.functions.Function.Function]"
      ]
     },
     "execution_count": 2,
     "metadata": {},
     "output_type": "execute_result"
    }
   ],
   "source": [
    "e = load_entities()\n",
    "e"
   ]
  },
  {
   "cell_type": "code",
   "execution_count": null,
   "id": "3e3a3c5d",
   "metadata": {},
   "outputs": [],
   "source": []
  }
 ],
 "metadata": {
  "kernelspec": {
   "display_name": "Python 3 (ipykernel)",
   "language": "python",
   "name": "python3"
  },
  "language_info": {
   "codemirror_mode": {
    "name": "ipython",
    "version": 3
   },
   "file_extension": ".py",
   "mimetype": "text/x-python",
   "name": "python",
   "nbconvert_exporter": "python",
   "pygments_lexer": "ipython3",
   "version": "3.10.10"
  }
 },
 "nbformat": 4,
 "nbformat_minor": 5
}
