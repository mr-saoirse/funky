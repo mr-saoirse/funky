{
 "cells": [
  {
   "cell_type": "code",
   "execution_count": null,
   "id": "2f65e25b",
   "metadata": {},
   "outputs": [],
   "source": [
    "import funkyprompt\n",
    "from IPython.display import Markdown\n",
    "from funkyprompt.core import   load_entities\n",
    "# from funkyprompt.services import language_model_client_from_context\n",
    "# from funkyprompt.core.agents import MessageStack\n",
    "from funkyprompt.core import AbstractEntity,AbstractModel, ConversationModel\n",
    "#Markdown(load_entities()[0].get_model_as_prompt())\n",
    "# from funkyprompt.core.agents import CallingContext\n",
    "#from funkyprompt.core.agents import Runner\n",
    "# model = language_model_client_from_context()\n",
    "# model('what is the capital of ireland')\n",
    "#funkyprompt.ask(\"what is the capital of ireland\")\n",
    "#r = Runner()\n",
    "#r('what is the capital of ireland')\n",
    "#funkyprompt.run('what is the capital of ireland')\n",
    "#funkyprompt.run('please ask for help and let me know what the status of planning in funkyprompt is')\n",
    "load_entities()"
   ]
  },
  {
   "cell_type": "code",
   "execution_count": null,
   "id": "ad187c5b",
   "metadata": {},
   "outputs": [],
   "source": [
    "from funkyprompt.services import entity_store\n",
    "from funkyprompt.core import AbstractModel\n",
    "#entity_store(AbstractModel).execute('select * from information_schema.tables')"
   ]
  },
  {
   "cell_type": "code",
   "execution_count": null,
   "id": "632f57de",
   "metadata": {},
   "outputs": [],
   "source": [
    "# entity_store(AbstractModel).__drop_table__()\n",
    "# entity_store(AbstractModel)._create_model()"
   ]
  },
  {
   "cell_type": "code",
   "execution_count": null,
   "id": "4757a14c",
   "metadata": {},
   "outputs": [],
   "source": [
    "#ConversationModel._register()"
   ]
  },
  {
   "cell_type": "code",
   "execution_count": null,
   "id": "bdee059a",
   "metadata": {},
   "outputs": [],
   "source": [
    "funkyprompt.run('please ask for help and let me know what the status of planning in funkyprompt is')"
   ]
  },
  {
   "cell_type": "code",
   "execution_count": 2,
   "id": "673a3d61",
   "metadata": {
    "scrolled": false
   },
   "outputs": [
    {
     "data": {
      "text/plain": [
       "[{'id': '56090c49-b320-486f-8782-f915beb6632c',\n",
       "  'user_id': 'system',\n",
       "  'objective_node_id': None,\n",
       "  'content': '{\"question\": \"how can i install postgres on the mac\", \"To install PostgreSQL on a Mac, you can use several methods, including using Homebrew, downloading the installer from the PostgreSQL website, or using a package manager like MacPorts. Here are the steps for each method:\\\\n\\\\n### Method 1: Using Homebrew\\\\n\\\\n1. **Install Homebrew** (if you haven\\'t already):\\\\n   Open Terminal and run:\\\\n   ```sh\\\\n   /bin/bash -c \\\\\"$(curl -fsSL https://raw.githubusercontent.com/Homebrew/install/HEAD/install.sh)\\\\\"\\\\n   ```\\\\n\\\\n2. **Install PostgreSQL**:\\\\n   Once Homebrew is installed, you can install PostgreSQL by running:\\\\n   ```sh\\\\n   brew install postgresql\\\\n   ```\\\\n\\\\n3. **Start PostgreSQL**:\\\\n   After installation, you can start PostgreSQL with:\\\\n   ```sh\\\\n   brew services start postgresql\\\\n   ```\\\\n\\\\n4. **Verify Installation**:\\\\n   Check the PostgreSQL version to verify the installation:\\\\n   ```sh\\\\n   psql --version\\\\n   ```\\\\n\\\\n### Method 2: Using the PostgreSQL Installer\\\\n\\\\n1. **Download the Installer**:\\\\n   Go to the [PostgreSQL website](https://www.postgresql.org/download/macosx/) and download the installer for macOS.\\\\n\\\\n2. **Run the Installer**:\\\\n   Open the downloaded file and follow the installation instructions.\\\\n\\\\n3. **Initialize the Database**:\\\\n   After installation, you may need to initialize the database. Open Terminal and run:\\\\n   ```sh\\\\n   /Library/PostgreSQL/<version>/bin/initdb -D /Library/PostgreSQL/<version>/data\\\\n   ```\\\\n\\\\n4. **Start PostgreSQL**:\\\\n   Start the PostgreSQL server:\\\\n   ```sh\\\\n   /Library/PostgreSQL/<version>/bin/pg_ctl -D /Library/PostgreSQL/<version>/data start\\\\n   ```\\\\n\\\\n5. **Verify Installation**:\\\\n   Check the PostgreSQL version to verify the installation:\\\\n   ```sh\\\\n   psql --version\\\\n   ```\\\\n\\\\n### Method 3: Using MacPorts\\\\n\\\\n1. **Install MacPorts** (if you haven\\'t already):\\\\n   Follow the instructions on the [MacPorts website](https://www.macports.org/install.php) to install MacPorts.\\\\n\\\\n2. **Install PostgreSQL**:\\\\n   Once MacPorts is installed, you can install PostgreSQL by running:\\\\n   ```sh\\\\n   sudo port install postgresql14\\\\n   ```\\\\n\\\\n3. **Initialize the Database**:\\\\n   Initialize the database cluster:\\\\n   ```sh\\\\n   sudo mkdir -p /opt/local/var/db/postgresql14/defaultdb\\\\n   sudo chown postgres:postgres /opt/local/var/db/postgresql14/defaultdb\\\\n   sudo su postgres -c \\'/opt/local/lib/postgresql14/bin/initdb -D /opt/local/var/db/postgresql14/defaultdb\\'\\\\n   ```\\\\n\\\\n4. **Start PostgreSQL**:\\\\n   Start the PostgreSQL server:\\\\n   ```sh\\\\n   sudo port load postgresql14-server\\\\n   ```\\\\n\\\\n5. **Verify Installation**:\\\\n   Check the PostgreSQL version to verify the installation:\\\\n   ```sh\\\\n   psql --version\\\\n   ```\\\\n\\\\nChoose the method that best suits your needs. Homebrew is generally the easiest and most popular method among macOS users.\": \"To install PostgreSQL on a Mac, you can use several methods, including using Homebrew, downloading the installer from the PostgreSQL website, or using a package manager like MacPorts. Here are the steps for each method:\\\\n\\\\n### Method 1: Using Homebrew\\\\n\\\\n1. **Install Homebrew** (if you haven\\'t already):\\\\n   Open Terminal and run:\\\\n   ```sh\\\\n   /bin/bash -c \\\\\"$(curl -fsSL https://raw.githubusercontent.com/Homebrew/install/HEAD/install.sh)\\\\\"\\\\n   ```\\\\n\\\\n2. **Install PostgreSQL**:\\\\n   Once Homebrew is installed, you can install PostgreSQL by running:\\\\n   ```sh\\\\n   brew install postgresql\\\\n   ```\\\\n\\\\n3. **Start PostgreSQL**:\\\\n   After installation, you can start PostgreSQL with:\\\\n   ```sh\\\\n   brew services start postgresql\\\\n   ```\\\\n\\\\n4. **Verify Installation**:\\\\n   Check the PostgreSQL version to verify the installation:\\\\n   ```sh\\\\n   psql --version\\\\n   ```\\\\n\\\\n### Method 2: Using the PostgreSQL Installer\\\\n\\\\n1. **Download the Installer**:\\\\n   Go to the [PostgreSQL website](https://www.postgresql.org/download/macosx/) and download the installer for macOS.\\\\n\\\\n2. **Run the Installer**:\\\\n   Open the downloaded file and follow the installation instructions.\\\\n\\\\n3. **Initialize the Database**:\\\\n   After installation, you may need to initialize the database. Open Terminal and run:\\\\n   ```sh\\\\n   /Library/PostgreSQL/<version>/bin/initdb -D /Library/PostgreSQL/<version>/data\\\\n   ```\\\\n\\\\n4. **Start PostgreSQL**:\\\\n   Start the PostgreSQL server:\\\\n   ```sh\\\\n   /Library/PostgreSQL/<version>/bin/pg_ctl -D /Library/PostgreSQL/<version>/data start\\\\n   ```\\\\n\\\\n5. **Verify Installation**:\\\\n   Check the PostgreSQL version to verify the installation:\\\\n   ```sh\\\\n   psql --version\\\\n   ```\\\\n\\\\n### Method 3: Using MacPorts\\\\n\\\\n1. **Install MacPorts** (if you haven\\'t already):\\\\n   Follow the instructions on the [MacPorts website](https://www.macports.org/install.php) to install MacPorts.\\\\n\\\\n2. **Install PostgreSQL**:\\\\n   Once MacPorts is installed, you can install PostgreSQL by running:\\\\n   ```sh\\\\n   sudo port install postgresql14\\\\n   ```\\\\n\\\\n3. **Initialize the Database**:\\\\n   Initialize the database cluster:\\\\n   ```sh\\\\n   sudo mkdir -p /opt/local/var/db/postgresql14/defaultdb\\\\n   sudo chown postgres:postgres /opt/local/var/db/postgresql14/defaultdb\\\\n   sudo su postgres -c \\'/opt/local/lib/postgresql14/bin/initdb -D /opt/local/var/db/postgresql14/defaultdb\\'\\\\n   ```\\\\n\\\\n4. **Start PostgreSQL**:\\\\n   Start the PostgreSQL server:\\\\n   ```sh\\\\n   sudo port load postgresql14-server\\\\n   ```\\\\n\\\\n5. **Verify Installation**:\\\\n   Check the PostgreSQL version to verify the installation:\\\\n   ```sh\\\\n   psql --version\\\\n   ```\\\\n\\\\nChoose the method that best suits your needs. Homebrew is generally the easiest and most popular method among macOS users.\"}',\n",
       "  'distances': -0.8825958967208862},\n",
       " {'id': '68169390-00a0-48ec-bdd6-6124f936b6c6',\n",
       "  'user_id': 'system',\n",
       "  'objective_node_id': None,\n",
       "  'content': '{\"question\": \"how can i install postgres on the mac (homebrew) along with AGE graph extension and pg_vector extension\", \"To install PostgreSQL along with the AGE graph extension and pg_vector extension on a Mac using Homebrew, follow these steps:\\\\n\\\\n### Step 1: Install PostgreSQL\\\\n1. **Open Terminal**.\\\\n2. **Update Homebrew**:\\\\n   ```sh\\\\n   brew update\\\\n   ```\\\\n3. **Install PostgreSQL**:\\\\n   ```sh\\\\n   brew install postgresql\\\\n   ```\\\\n4. **Start PostgreSQL**:\\\\n   ```sh\\\\n   brew services start postgresql\\\\n   ```\\\\n\\\\n### Step 2: Install AGE Graph Extension\\\\nApache AGE (A Graph Extension) is an extension for PostgreSQL that provides graph database functionality.\\\\n\\\\n1. **Clone the AGE repository**:\\\\n   ```sh\\\\n   git clone https://github.com/apache/age.git\\\\n   ```\\\\n2. **Navigate to the AGE directory**:\\\\n   ```sh\\\\n   cd age\\\\n   ```\\\\n3. **Build and install the extension**:\\\\n   ```sh\\\\n   make install\\\\n   ```\\\\n4. **Load the extension into PostgreSQL**:\\\\n   ```sh\\\\n   psql -c \\\\\"CREATE EXTENSION age;\\\\\"\\\\n   ```\\\\n\\\\n### Step 3: Install pg_vector Extension\\\\npg_vector is an extension for PostgreSQL that provides vector similarity search.\\\\n\\\\n1. **Clone the pg_vector repository**:\\\\n   ```sh\\\\n   git clone https://github.com/pgvector/pgvector.git\\\\n   ```\\\\n2. **Navigate to the pg_vector directory**:\\\\n   ```sh\\\\n   cd pgvector\\\\n   ```\\\\n3. **Build and install the extension**:\\\\n   ```sh\\\\n   make install\\\\n   ```\\\\n4. **Load the extension into PostgreSQL**:\\\\n   ```sh\\\\n   psql -c \\\\\"CREATE EXTENSION vector;\\\\\"\\\\n   ```\\\\n\\\\n### Step 4: Verify Installation\\\\n1. **Connect to PostgreSQL**:\\\\n   ```sh\\\\n   psql\\\\n   ```\\\\n2. **Check installed extensions**:\\\\n   ```sh\\\\n   \\\\\\\\dx\\\\n   ```\\\\n\\\\nYou should see both `age` and `vector` listed among the installed extensions.\\\\n\\\\n### Notes\\\\n- Ensure you have the necessary build tools installed (e.g., `make`, `gcc`).\\\\n- You may need to adjust your `PATH` to include the PostgreSQL binaries if they are not already included.\\\\n\\\\nThis should set up PostgreSQL with the AGE graph extension and pg_vector extension on your Mac using Homebrew.\": \"To install PostgreSQL along with the AGE graph extension and pg_vector extension on a Mac using Homebrew, follow these steps:\\\\n\\\\n### Step 1: Install PostgreSQL\\\\n1. **Open Terminal**.\\\\n2. **Update Homebrew**:\\\\n   ```sh\\\\n   brew update\\\\n   ```\\\\n3. **Install PostgreSQL**:\\\\n   ```sh\\\\n   brew install postgresql\\\\n   ```\\\\n4. **Start PostgreSQL**:\\\\n   ```sh\\\\n   brew services start postgresql\\\\n   ```\\\\n\\\\n### Step 2: Install AGE Graph Extension\\\\nApache AGE (A Graph Extension) is an extension for PostgreSQL that provides graph database functionality.\\\\n\\\\n1. **Clone the AGE repository**:\\\\n   ```sh\\\\n   git clone https://github.com/apache/age.git\\\\n   ```\\\\n2. **Navigate to the AGE directory**:\\\\n   ```sh\\\\n   cd age\\\\n   ```\\\\n3. **Build and install the extension**:\\\\n   ```sh\\\\n   make install\\\\n   ```\\\\n4. **Load the extension into PostgreSQL**:\\\\n   ```sh\\\\n   psql -c \\\\\"CREATE EXTENSION age;\\\\\"\\\\n   ```\\\\n\\\\n### Step 3: Install pg_vector Extension\\\\npg_vector is an extension for PostgreSQL that provides vector similarity search.\\\\n\\\\n1. **Clone the pg_vector repository**:\\\\n   ```sh\\\\n   git clone https://github.com/pgvector/pgvector.git\\\\n   ```\\\\n2. **Navigate to the pg_vector directory**:\\\\n   ```sh\\\\n   cd pgvector\\\\n   ```\\\\n3. **Build and install the extension**:\\\\n   ```sh\\\\n   make install\\\\n   ```\\\\n4. **Load the extension into PostgreSQL**:\\\\n   ```sh\\\\n   psql -c \\\\\"CREATE EXTENSION vector;\\\\\"\\\\n   ```\\\\n\\\\n### Step 4: Verify Installation\\\\n1. **Connect to PostgreSQL**:\\\\n   ```sh\\\\n   psql\\\\n   ```\\\\n2. **Check installed extensions**:\\\\n   ```sh\\\\n   \\\\\\\\dx\\\\n   ```\\\\n\\\\nYou should see both `age` and `vector` listed among the installed extensions.\\\\n\\\\n### Notes\\\\n- Ensure you have the necessary build tools installed (e.g., `make`, `gcc`).\\\\n- You may need to adjust your `PATH` to include the PostgreSQL binaries if they are not already included.\\\\n\\\\nThis should set up PostgreSQL with the AGE graph extension and pg_vector extension on your Mac using Homebrew.\"}',\n",
       "  'distances': -0.8425481915473938},\n",
       " {'id': 'c98b2a45-9f03-410f-992c-35dc29879c3d',\n",
       "  'user_id': 'system',\n",
       "  'objective_node_id': None,\n",
       "  'content': '{\"question\": \"please ask for help and let me know what the status of planning in funkyprompt is\", \"The status of planning in Funkyprompt is currently pending. It is suggested to use world knowledge for now. If you have any specific questions or need assistance with something, feel free to ask!\": \"The status of planning in Funkyprompt is currently pending. It is suggested to use world knowledge for now. If you have any specific questions or need assistance with something, feel free to ask!\"}',\n",
       "  'distances': -0.7035906314849854},\n",
       " {'id': '07cf5f9f-babc-4837-bf6e-8c9c9d436fad',\n",
       "  'user_id': 'system',\n",
       "  'objective_node_id': None,\n",
       "  'content': '{\"question\": \"please ask for help and let me know what the status of planning in funkyprompt is\", \"The status of planning in Funkyprompt is currently pending. It is suggested to use world knowledge for now. If you have any specific questions or need assistance with something else, feel free to ask!\": \"The status of planning in Funkyprompt is currently pending. It is suggested to use world knowledge for now. If you have any specific questions or need assistance with something else, feel free to ask!\"}',\n",
       "  'distances': -0.6995883584022522}]"
      ]
     },
     "execution_count": 2,
     "metadata": {},
     "output_type": "execute_result"
    }
   ],
   "source": [
    "from funkyprompt.entities import Project\n",
    "from funkyprompt.core import ConversationModel\n",
    "from funkyprompt.services import entity_store\n",
    "store =entity_store(Project)\n",
    "store.vector_search('what projects tell us about sirsh interests')\n",
    "store =entity_store(ConversationModel)\n",
    "store.vector_search('what did i asked about installing postgres on the mac')\n",
    "#store.vector_search('{\"question\": \"please ask for help and let me know what the status of planning in funkyprompt is\", \"The status of planning in Funkyprompt is currently pending. It is suggested to use world knowledge for now. If you have any specific questions or need assistance with something, feel free to ask!\": \"The status of planning in Funkyprompt is currently pending. It is suggested to use world knowledge for now. If you have any specific questions or need assistance with something, feel free to ask!\"}')"
   ]
  },
  {
   "cell_type": "code",
   "execution_count": 3,
   "id": "5ec6bd43",
   "metadata": {},
   "outputs": [],
   "source": [
    "#store.update_records(p)"
   ]
  },
  {
   "cell_type": "code",
   "execution_count": 4,
   "id": "05dad159",
   "metadata": {},
   "outputs": [
    {
     "data": {
      "text/plain": [
       "[{'id': '56090c49-b320-486f-8782-f915beb6632c',\n",
       "  'user_id': 'system',\n",
       "  'objective_node_id': None,\n",
       "  'content': '{\"question\": \"how can i install postgres on the mac\", \"To install PostgreSQL on a Mac, you can use several methods, including using Homebrew, downloading the installer from the PostgreSQL website, or using a package manager like MacPorts. Here are the steps for each method:\\\\n\\\\n### Method 1: Using Homebrew\\\\n\\\\n1. **Install Homebrew** (if you haven\\'t already):\\\\n   Open Terminal and run:\\\\n   ```sh\\\\n   /bin/bash -c \\\\\"$(curl -fsSL https://raw.githubusercontent.com/Homebrew/install/HEAD/install.sh)\\\\\"\\\\n   ```\\\\n\\\\n2. **Install PostgreSQL**:\\\\n   Once Homebrew is installed, you can install PostgreSQL by running:\\\\n   ```sh\\\\n   brew install postgresql\\\\n   ```\\\\n\\\\n3. **Start PostgreSQL**:\\\\n   After installation, you can start PostgreSQL with:\\\\n   ```sh\\\\n   brew services start postgresql\\\\n   ```\\\\n\\\\n4. **Verify Installation**:\\\\n   Check the PostgreSQL version to verify the installation:\\\\n   ```sh\\\\n   psql --version\\\\n   ```\\\\n\\\\n### Method 2: Using the PostgreSQL Installer\\\\n\\\\n1. **Download the Installer**:\\\\n   Go to the [PostgreSQL website](https://www.postgresql.org/download/macosx/) and download the installer for macOS.\\\\n\\\\n2. **Run the Installer**:\\\\n   Open the downloaded file and follow the installation instructions.\\\\n\\\\n3. **Initialize the Database**:\\\\n   After installation, you may need to initialize the database. Open Terminal and run:\\\\n   ```sh\\\\n   /Library/PostgreSQL/<version>/bin/initdb -D /Library/PostgreSQL/<version>/data\\\\n   ```\\\\n\\\\n4. **Start PostgreSQL**:\\\\n   Start the PostgreSQL server:\\\\n   ```sh\\\\n   /Library/PostgreSQL/<version>/bin/pg_ctl -D /Library/PostgreSQL/<version>/data start\\\\n   ```\\\\n\\\\n5. **Verify Installation**:\\\\n   Check the PostgreSQL version to verify the installation:\\\\n   ```sh\\\\n   psql --version\\\\n   ```\\\\n\\\\n### Method 3: Using MacPorts\\\\n\\\\n1. **Install MacPorts** (if you haven\\'t already):\\\\n   Follow the instructions on the [MacPorts website](https://www.macports.org/install.php) to install MacPorts.\\\\n\\\\n2. **Install PostgreSQL**:\\\\n   Once MacPorts is installed, you can install PostgreSQL by running:\\\\n   ```sh\\\\n   sudo port install postgresql14\\\\n   ```\\\\n\\\\n3. **Initialize the Database**:\\\\n   Initialize the database cluster:\\\\n   ```sh\\\\n   sudo mkdir -p /opt/local/var/db/postgresql14/defaultdb\\\\n   sudo chown postgres:postgres /opt/local/var/db/postgresql14/defaultdb\\\\n   sudo su postgres -c \\'/opt/local/lib/postgresql14/bin/initdb -D /opt/local/var/db/postgresql14/defaultdb\\'\\\\n   ```\\\\n\\\\n4. **Start PostgreSQL**:\\\\n   Start the PostgreSQL server:\\\\n   ```sh\\\\n   sudo port load postgresql14-server\\\\n   ```\\\\n\\\\n5. **Verify Installation**:\\\\n   Check the PostgreSQL version to verify the installation:\\\\n   ```sh\\\\n   psql --version\\\\n   ```\\\\n\\\\nChoose the method that best suits your needs. Homebrew is generally the easiest and most popular method among macOS users.\": \"To install PostgreSQL on a Mac, you can use several methods, including using Homebrew, downloading the installer from the PostgreSQL website, or using a package manager like MacPorts. Here are the steps for each method:\\\\n\\\\n### Method 1: Using Homebrew\\\\n\\\\n1. **Install Homebrew** (if you haven\\'t already):\\\\n   Open Terminal and run:\\\\n   ```sh\\\\n   /bin/bash -c \\\\\"$(curl -fsSL https://raw.githubusercontent.com/Homebrew/install/HEAD/install.sh)\\\\\"\\\\n   ```\\\\n\\\\n2. **Install PostgreSQL**:\\\\n   Once Homebrew is installed, you can install PostgreSQL by running:\\\\n   ```sh\\\\n   brew install postgresql\\\\n   ```\\\\n\\\\n3. **Start PostgreSQL**:\\\\n   After installation, you can start PostgreSQL with:\\\\n   ```sh\\\\n   brew services start postgresql\\\\n   ```\\\\n\\\\n4. **Verify Installation**:\\\\n   Check the PostgreSQL version to verify the installation:\\\\n   ```sh\\\\n   psql --version\\\\n   ```\\\\n\\\\n### Method 2: Using the PostgreSQL Installer\\\\n\\\\n1. **Download the Installer**:\\\\n   Go to the [PostgreSQL website](https://www.postgresql.org/download/macosx/) and download the installer for macOS.\\\\n\\\\n2. **Run the Installer**:\\\\n   Open the downloaded file and follow the installation instructions.\\\\n\\\\n3. **Initialize the Database**:\\\\n   After installation, you may need to initialize the database. Open Terminal and run:\\\\n   ```sh\\\\n   /Library/PostgreSQL/<version>/bin/initdb -D /Library/PostgreSQL/<version>/data\\\\n   ```\\\\n\\\\n4. **Start PostgreSQL**:\\\\n   Start the PostgreSQL server:\\\\n   ```sh\\\\n   /Library/PostgreSQL/<version>/bin/pg_ctl -D /Library/PostgreSQL/<version>/data start\\\\n   ```\\\\n\\\\n5. **Verify Installation**:\\\\n   Check the PostgreSQL version to verify the installation:\\\\n   ```sh\\\\n   psql --version\\\\n   ```\\\\n\\\\n### Method 3: Using MacPorts\\\\n\\\\n1. **Install MacPorts** (if you haven\\'t already):\\\\n   Follow the instructions on the [MacPorts website](https://www.macports.org/install.php) to install MacPorts.\\\\n\\\\n2. **Install PostgreSQL**:\\\\n   Once MacPorts is installed, you can install PostgreSQL by running:\\\\n   ```sh\\\\n   sudo port install postgresql14\\\\n   ```\\\\n\\\\n3. **Initialize the Database**:\\\\n   Initialize the database cluster:\\\\n   ```sh\\\\n   sudo mkdir -p /opt/local/var/db/postgresql14/defaultdb\\\\n   sudo chown postgres:postgres /opt/local/var/db/postgresql14/defaultdb\\\\n   sudo su postgres -c \\'/opt/local/lib/postgresql14/bin/initdb -D /opt/local/var/db/postgresql14/defaultdb\\'\\\\n   ```\\\\n\\\\n4. **Start PostgreSQL**:\\\\n   Start the PostgreSQL server:\\\\n   ```sh\\\\n   sudo port load postgresql14-server\\\\n   ```\\\\n\\\\n5. **Verify Installation**:\\\\n   Check the PostgreSQL version to verify the installation:\\\\n   ```sh\\\\n   psql --version\\\\n   ```\\\\n\\\\nChoose the method that best suits your needs. Homebrew is generally the easiest and most popular method among macOS users.\"}',\n",
       "  'distances': 0.8825958967208862},\n",
       " {'id': '68169390-00a0-48ec-bdd6-6124f936b6c6',\n",
       "  'user_id': 'system',\n",
       "  'objective_node_id': None,\n",
       "  'content': '{\"question\": \"how can i install postgres on the mac (homebrew) along with AGE graph extension and pg_vector extension\", \"To install PostgreSQL along with the AGE graph extension and pg_vector extension on a Mac using Homebrew, follow these steps:\\\\n\\\\n### Step 1: Install PostgreSQL\\\\n1. **Open Terminal**.\\\\n2. **Update Homebrew**:\\\\n   ```sh\\\\n   brew update\\\\n   ```\\\\n3. **Install PostgreSQL**:\\\\n   ```sh\\\\n   brew install postgresql\\\\n   ```\\\\n4. **Start PostgreSQL**:\\\\n   ```sh\\\\n   brew services start postgresql\\\\n   ```\\\\n\\\\n### Step 2: Install AGE Graph Extension\\\\nApache AGE (A Graph Extension) is an extension for PostgreSQL that provides graph database functionality.\\\\n\\\\n1. **Clone the AGE repository**:\\\\n   ```sh\\\\n   git clone https://github.com/apache/age.git\\\\n   ```\\\\n2. **Navigate to the AGE directory**:\\\\n   ```sh\\\\n   cd age\\\\n   ```\\\\n3. **Build and install the extension**:\\\\n   ```sh\\\\n   make install\\\\n   ```\\\\n4. **Load the extension into PostgreSQL**:\\\\n   ```sh\\\\n   psql -c \\\\\"CREATE EXTENSION age;\\\\\"\\\\n   ```\\\\n\\\\n### Step 3: Install pg_vector Extension\\\\npg_vector is an extension for PostgreSQL that provides vector similarity search.\\\\n\\\\n1. **Clone the pg_vector repository**:\\\\n   ```sh\\\\n   git clone https://github.com/pgvector/pgvector.git\\\\n   ```\\\\n2. **Navigate to the pg_vector directory**:\\\\n   ```sh\\\\n   cd pgvector\\\\n   ```\\\\n3. **Build and install the extension**:\\\\n   ```sh\\\\n   make install\\\\n   ```\\\\n4. **Load the extension into PostgreSQL**:\\\\n   ```sh\\\\n   psql -c \\\\\"CREATE EXTENSION vector;\\\\\"\\\\n   ```\\\\n\\\\n### Step 4: Verify Installation\\\\n1. **Connect to PostgreSQL**:\\\\n   ```sh\\\\n   psql\\\\n   ```\\\\n2. **Check installed extensions**:\\\\n   ```sh\\\\n   \\\\\\\\dx\\\\n   ```\\\\n\\\\nYou should see both `age` and `vector` listed among the installed extensions.\\\\n\\\\n### Notes\\\\n- Ensure you have the necessary build tools installed (e.g., `make`, `gcc`).\\\\n- You may need to adjust your `PATH` to include the PostgreSQL binaries if they are not already included.\\\\n\\\\nThis should set up PostgreSQL with the AGE graph extension and pg_vector extension on your Mac using Homebrew.\": \"To install PostgreSQL along with the AGE graph extension and pg_vector extension on a Mac using Homebrew, follow these steps:\\\\n\\\\n### Step 1: Install PostgreSQL\\\\n1. **Open Terminal**.\\\\n2. **Update Homebrew**:\\\\n   ```sh\\\\n   brew update\\\\n   ```\\\\n3. **Install PostgreSQL**:\\\\n   ```sh\\\\n   brew install postgresql\\\\n   ```\\\\n4. **Start PostgreSQL**:\\\\n   ```sh\\\\n   brew services start postgresql\\\\n   ```\\\\n\\\\n### Step 2: Install AGE Graph Extension\\\\nApache AGE (A Graph Extension) is an extension for PostgreSQL that provides graph database functionality.\\\\n\\\\n1. **Clone the AGE repository**:\\\\n   ```sh\\\\n   git clone https://github.com/apache/age.git\\\\n   ```\\\\n2. **Navigate to the AGE directory**:\\\\n   ```sh\\\\n   cd age\\\\n   ```\\\\n3. **Build and install the extension**:\\\\n   ```sh\\\\n   make install\\\\n   ```\\\\n4. **Load the extension into PostgreSQL**:\\\\n   ```sh\\\\n   psql -c \\\\\"CREATE EXTENSION age;\\\\\"\\\\n   ```\\\\n\\\\n### Step 3: Install pg_vector Extension\\\\npg_vector is an extension for PostgreSQL that provides vector similarity search.\\\\n\\\\n1. **Clone the pg_vector repository**:\\\\n   ```sh\\\\n   git clone https://github.com/pgvector/pgvector.git\\\\n   ```\\\\n2. **Navigate to the pg_vector directory**:\\\\n   ```sh\\\\n   cd pgvector\\\\n   ```\\\\n3. **Build and install the extension**:\\\\n   ```sh\\\\n   make install\\\\n   ```\\\\n4. **Load the extension into PostgreSQL**:\\\\n   ```sh\\\\n   psql -c \\\\\"CREATE EXTENSION vector;\\\\\"\\\\n   ```\\\\n\\\\n### Step 4: Verify Installation\\\\n1. **Connect to PostgreSQL**:\\\\n   ```sh\\\\n   psql\\\\n   ```\\\\n2. **Check installed extensions**:\\\\n   ```sh\\\\n   \\\\\\\\dx\\\\n   ```\\\\n\\\\nYou should see both `age` and `vector` listed among the installed extensions.\\\\n\\\\n### Notes\\\\n- Ensure you have the necessary build tools installed (e.g., `make`, `gcc`).\\\\n- You may need to adjust your `PATH` to include the PostgreSQL binaries if they are not already included.\\\\n\\\\nThis should set up PostgreSQL with the AGE graph extension and pg_vector extension on your Mac using Homebrew.\"}',\n",
       "  'distances': 0.8425481915473938},\n",
       " {'id': 'c98b2a45-9f03-410f-992c-35dc29879c3d',\n",
       "  'user_id': 'system',\n",
       "  'objective_node_id': None,\n",
       "  'content': '{\"question\": \"please ask for help and let me know what the status of planning in funkyprompt is\", \"The status of planning in Funkyprompt is currently pending. It is suggested to use world knowledge for now. If you have any specific questions or need assistance with something, feel free to ask!\": \"The status of planning in Funkyprompt is currently pending. It is suggested to use world knowledge for now. If you have any specific questions or need assistance with something, feel free to ask!\"}',\n",
       "  'distances': 0.7035906314849854},\n",
       " {'id': '07cf5f9f-babc-4837-bf6e-8c9c9d436fad',\n",
       "  'user_id': 'system',\n",
       "  'objective_node_id': None,\n",
       "  'content': '{\"question\": \"please ask for help and let me know what the status of planning in funkyprompt is\", \"The status of planning in Funkyprompt is currently pending. It is suggested to use world knowledge for now. If you have any specific questions or need assistance with something else, feel free to ask!\": \"The status of planning in Funkyprompt is currently pending. It is suggested to use world knowledge for now. If you have any specific questions or need assistance with something else, feel free to ask!\"}',\n",
       "  'distances': 0.6995883584022522}]"
      ]
     },
     "execution_count": 4,
     "metadata": {},
     "output_type": "execute_result"
    }
   ],
   "source": []
  },
  {
   "cell_type": "code",
   "execution_count": null,
   "id": "44e7702d",
   "metadata": {},
   "outputs": [],
   "source": []
  }
 ],
 "metadata": {
  "kernelspec": {
   "display_name": "Python 3 (ipykernel)",
   "language": "python",
   "name": "python3"
  },
  "language_info": {
   "codemirror_mode": {
    "name": "ipython",
    "version": 3
   },
   "file_extension": ".py",
   "mimetype": "text/x-python",
   "name": "python",
   "nbconvert_exporter": "python",
   "pygments_lexer": "ipython3",
   "version": "3.10.10"
  }
 },
 "nbformat": 4,
 "nbformat_minor": 5
}
