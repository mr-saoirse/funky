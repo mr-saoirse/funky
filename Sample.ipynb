{
 "cells": [
  {
   "cell_type": "code",
   "execution_count": 3,
   "id": "eff5f292",
   "metadata": {},
   "outputs": [],
   "source": [
    "import funkyprompt\n",
    "# from funkyprompt.core import Function, load_entities\n",
    "# from funkyprompt.services import language_model_client_from_context\n",
    "# from funkyprompt.core.agents import MessageStack\n",
    "# from funkyprompt.core import AbstractEntity,AbstractModel\n",
    "# from funkyprompt.core.agents import CallingContext\n",
    "#from funkyprompt.core.agents import Runner\n",
    "# model = language_model_client_from_context()\n",
    "# model('what is the capital of ireland')\n",
    "#funkyprompt.ask(\"what is the capital of ireland\")\n",
    "#r = Runner()\n",
    "#r('what is the capital of ireland')\n",
    "#funkyprompt.run('what is the capital of ireland')\n",
    "#funkyprompt.run('please ask for help and let me know what the status of planning in funkyprompt is')"
   ]
  },
  {
   "cell_type": "code",
   "execution_count": null,
   "id": "a4be02ba",
   "metadata": {},
   "outputs": [],
   "source": [
    " "
   ]
  },
  {
   "cell_type": "code",
   "execution_count": null,
   "id": "14b17880",
   "metadata": {},
   "outputs": [],
   "source": []
  },
  {
   "cell_type": "code",
   "execution_count": 4,
   "id": "b192549c",
   "metadata": {},
   "outputs": [
    {
     "data": {
      "text/markdown": [
       "## core.plan\n",
       "    \n",
       "    *Description*: Below is a schema for building a plan.\n",
       "        I would like you to consider the functions provided and build a plan to solve the task.\n",
       "        You should break the problem down into steps and consider;\n",
       "        (a) what functions can be used in each step matching the correct entity to the most suitable function \n",
       "        (b) what strategy to use in each step\n",
       "        (c) how results from one step can be embedded as questions to the next.\n",
       "        \n",
       "        Functions that can be called without other dependencies can have empty dependency list and only functions that need the result of another function should depend on the other function.\n",
       "        When calling functions in later states, you should always pass the shared context or known entities as parameters to the stage.\n",
       "            - For example if entities are needed in other stages, they should be passed in as parameters in later stages.\n",
       "        When passing data from one step to the next we can embed data in the question. \n",
       "            - For example if we got a collection of data from one or more steps, we could ask a question such as given the data [insert data] [ask the question]\n",
       "            \n",
       "        The user will supply further instructions for the task.\n",
       "    \n",
       "    *Field info*:\n",
       "    class Plan(BaseModel)\n",
       "  -  id: typing.Union[str, uuid.UUID, NoneType] # A unique hash/uuid for the entity. The name can be hashed if its marked as the key\n",
       "  -  name: typing.Optional[str] # The unique name of the plan node\n",
       "  -  plan_description: <class 'str'> # The plan to prompt the agent - should provide fully strategy and explain what dependencies exist with other stages\n",
       "  -  questions: typing.Optional[typing.List[str]] # The question in this plan instance as the user would ask it. A plan can be constructed without a clear question\n",
       "  -  extra_arguments: typing.Optional[dict] # Placeholder/hint for extra parameters that should be passed from previous stages such as data or identifiers that were discovered in the data and expected by the function either as a parameter or important context\n",
       "  -  functions: typing.Optional[typing.List[funkyprompt.core.agents.Plan.PlanFunctions]] # A collection of functions designed for use with this context\n",
       "  -  depends: typing.Optional[typing.List[funkyprompt.core.agents.Plan.Plan]] # A dependency graph - plans can be chained into waves of functions that can be called in parallel or one after the other. Data dependencies are injected to downstream plans\n",
       "\n",
       "    \n",
       "    \n",
       "        ## Available entity functions\n",
       "        \n",
       "        ```json\n",
       "        [\"<class 'funkyprompt.core.agents.Plan.Plan'>\", \"<class 'funkyprompt.core.functions.Function.Function'>\"]\n",
       "        ```\n",
       "    \n",
       "    "
      ],
      "text/plain": [
       "<IPython.core.display.Markdown object>"
      ]
     },
     "execution_count": 4,
     "metadata": {},
     "output_type": "execute_result"
    }
   ],
   "source": [
    "from IPython.display import Markdown\n",
    "\n",
    "Markdown(e[0].get_model_as_prompt())"
   ]
  },
  {
   "cell_type": "code",
   "execution_count": null,
   "id": "fc11f870",
   "metadata": {},
   "outputs": [],
   "source": []
  }
 ],
 "metadata": {
  "kernelspec": {
   "display_name": "Python 3 (ipykernel)",
   "language": "python",
   "name": "python3"
  },
  "language_info": {
   "codemirror_mode": {
    "name": "ipython",
    "version": 3
   },
   "file_extension": ".py",
   "mimetype": "text/x-python",
   "name": "python",
   "nbconvert_exporter": "python",
   "pygments_lexer": "ipython3",
   "version": "3.10.10"
  }
 },
 "nbformat": 4,
 "nbformat_minor": 5
}
