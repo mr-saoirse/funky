{
 "cells": [
  {
   "cell_type": "code",
   "execution_count": 1,
   "id": "2f65e25b",
   "metadata": {},
   "outputs": [],
   "source": [
    "import funkyprompt\n",
    "#from IPython.display import Markdown\n",
    "# from funkyprompt.core import Function, load_entities\n",
    "# from funkyprompt.services import language_model_client_from_context\n",
    "# from funkyprompt.core.agents import MessageStack\n",
    "# from funkyprompt.core import AbstractEntity,AbstractModel\n",
    "#Markdown(load_entities()[0].get_model_as_prompt())\n",
    "# from funkyprompt.core.agents import CallingContext\n",
    "#from funkyprompt.core.agents import Runner\n",
    "# model = language_model_client_from_context()\n",
    "# model('what is the capital of ireland')\n",
    "#funkyprompt.ask(\"what is the capital of ireland\")\n",
    "#r = Runner()\n",
    "#r('what is the capital of ireland')\n",
    "#funkyprompt.run('what is the capital of ireland')\n",
    "#funkyprompt.run('please ask for help and let me know what the status of planning in funkyprompt is')"
   ]
  },
  {
   "cell_type": "code",
   "execution_count": 2,
   "id": "ad187c5b",
   "metadata": {},
   "outputs": [],
   "source": [
    "from funkyprompt.services import entity_store\n",
    "from funkyprompt.core import AbstractModel\n",
    "#entity_store(AbstractModel).execute('select * from information_schema.tables')"
   ]
  },
  {
   "cell_type": "code",
   "execution_count": 7,
   "id": "632f57de",
   "metadata": {},
   "outputs": [],
   "source": [
    "# entity_store(AbstractModel).__drop_table__()\n",
    "# entity_store(AbstractModel)._create_model()"
   ]
  },
  {
   "cell_type": "code",
   "execution_count": null,
   "id": "a1cdb185",
   "metadata": {},
   "outputs": [],
   "source": []
  }
 ],
 "metadata": {
  "kernelspec": {
   "display_name": "Python 3 (ipykernel)",
   "language": "python",
   "name": "python3"
  },
  "language_info": {
   "codemirror_mode": {
    "name": "ipython",
    "version": 3
   },
   "file_extension": ".py",
   "mimetype": "text/x-python",
   "name": "python",
   "nbconvert_exporter": "python",
   "pygments_lexer": "ipython3",
   "version": "3.10.10"
  }
 },
 "nbformat": 4,
 "nbformat_minor": 5
}
