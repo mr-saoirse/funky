{
 "cells": [
  {
   "cell_type": "code",
   "execution_count": 1,
   "id": "34e4ceba",
   "metadata": {},
   "outputs": [],
   "source": [
    "import funkyprompt\n",
    "from funkyprompt.core import Function, load_entities\n",
    "from funkyprompt.services import language_model_client_from_context\n",
    "from funkyprompt.core.agents import MessageStack\n",
    "from funkyprompt.core import AbstractEntity,AbstractModel\n",
    "from funkyprompt.core.agents import CallingContext\n",
    "\n",
    "# model = language_model_client_from_context()\n",
    "# model('what is the capital of ireland')\n",
    "\n",
    "#funkyprompt.ask(\"what is the capital of ireland\")"
   ]
  },
  {
   "cell_type": "code",
   "execution_count": 2,
   "id": "e57d9f1d",
   "metadata": {},
   "outputs": [
    {
     "name": "stdout",
     "output_type": "stream",
     "text": [
      "A Funkyprompt agent is a type of AI agent designed to handle complex tasks by leveraging a dynamic and modular approach to function execution and state management. Here are the key principles and features of a Funkyprompt agent:\n",
      "\n",
      "1. **Dynamic Function Execution**: Funkyprompt agents can call various functions to answer user questions or perform tasks. These functions are loaded on demand and can be searched and managed dynamically.\n",
      "\n",
      "2. **State Management**: The agent outsources stateful jobs to manage the message stack (a list of messages) and the function stack. This allows the agent to maintain context and handle multi-step workflows effectively.\n",
      "\n",
      "3. **Object-Oriented Generation Paradigm**: Agents are treated as objects that contain methods, fields, and metadata. This encapsulation allows for rich semantics and access to functions within a single object.\n",
      "\n",
      "4. **Declarative Approach**: The agent's behavior, goals, and functions are defined declaratively within the object. This makes it easier to understand and manage the agent's capabilities and responses.\n",
      "\n",
      "5. **Response Schema**: Agents can provide a response schema to guide the format of their responses, ensuring consistency and clarity in communication.\n",
      "\n",
      "6. **Multimodal Applications**: Funkyprompt agents can handle multimodal tasks, such as image description, by calling appropriate functions.\n",
      "\n",
      "7. **Lightweight and Intuitive**: The framework is designed to be lightweight, with the runner being a simple shell of fewer than 200 lines of code. This simplicity makes it easy to build and extend complex agent systems.\n",
      "\n",
      "In summary, a Funkyprompt agent is a versatile and modular AI agent that can dynamically manage functions and state to handle a wide range of tasks efficiently."
     ]
    }
   ],
   "source": [
    "\n",
    "a = funkyprompt.ask(\"what is a funkyprompt agent\", \n",
    "                    context = CallingContext(streaming_callback=lambda s : print(s, end='')))\n"
   ]
  },
  {
   "cell_type": "code",
   "execution_count": 3,
   "id": "001f4724",
   "metadata": {},
   "outputs": [
    {
     "data": {
      "text/markdown": [
       "A Funkyprompt agent is a type of AI agent designed to handle complex tasks by leveraging a dynamic and modular approach to function execution and state management. Here are the key principles and features of a Funkyprompt agent:\n",
       "\n",
       "1. **Dynamic Function Execution**: Funkyprompt agents can call various functions to answer user questions or perform tasks. These functions are loaded on demand and can be searched and managed dynamically.\n",
       "\n",
       "2. **State Management**: The agent outsources stateful jobs to manage the message stack (a list of messages) and the function stack. This allows the agent to maintain context and handle multi-step workflows effectively.\n",
       "\n",
       "3. **Object-Oriented Generation Paradigm**: Agents are treated as objects that contain methods, fields, and metadata. This encapsulation allows for rich semantics and access to functions within a single object.\n",
       "\n",
       "4. **Declarative Approach**: The agent's behavior, goals, and functions are defined declaratively within the object. This makes it easier to understand and manage the agent's capabilities and responses.\n",
       "\n",
       "5. **Response Schema**: Agents can provide a response schema to guide the format of their responses, ensuring consistency and clarity in communication.\n",
       "\n",
       "6. **Multimodal Applications**: Funkyprompt agents can handle multimodal tasks, such as image description, by calling appropriate functions.\n",
       "\n",
       "7. **Lightweight and Intuitive**: The framework is designed to be lightweight, with the runner being a simple shell of fewer than 200 lines of code. This simplicity makes it easy to build and extend complex agent systems.\n",
       "\n",
       "In summary, a Funkyprompt agent is a versatile and modular AI agent that can dynamically manage functions and state to handle a wide range of tasks efficiently."
      ],
      "text/plain": [
       "<IPython.core.display.Markdown object>"
      ]
     },
     "execution_count": 3,
     "metadata": {},
     "output_type": "execute_result"
    }
   ],
   "source": [
    "from IPython.display import Markdown\n",
    "Markdown(a)"
   ]
  },
  {
   "cell_type": "code",
   "execution_count": 4,
   "id": "2de7eadb",
   "metadata": {},
   "outputs": [
    {
     "data": {
      "text/plain": [
       "[funkyprompt.core.agents.Plan.Plan,\n",
       " funkyprompt.core.functions.Function.Function]"
      ]
     },
     "execution_count": 4,
     "metadata": {},
     "output_type": "execute_result"
    }
   ],
   "source": [
    "e = load_entities()\n",
    "e"
   ]
  },
  {
   "cell_type": "code",
   "execution_count": 4,
   "id": "9cb08c04",
   "metadata": {},
   "outputs": [
    {
     "data": {
      "text/markdown": [
       "## core.plan\n",
       "    \n",
       "    *Description*: Below is a schema for building a plan.\n",
       "        I would like you to consider the functions provided and build a plan to solve the task.\n",
       "        You should break the problem down into steps and consider;\n",
       "        (a) what functions can be used in each step matching the correct entity to the most suitable function \n",
       "        (b) what strategy to use in each step\n",
       "        (c) how results from one step can be embedded as questions to the next.\n",
       "        \n",
       "        Functions that can be called without other dependencies can have empty dependency list and only functions that need the result of another function should depend on the other function.\n",
       "        When calling functions in later states, you should always pass the shared context or known entities as parameters to the stage.\n",
       "            - For example if entities are needed in other stages, they should be passed in as parameters in later stages.\n",
       "        When passing data from one step to the next we can embed data in the question. \n",
       "            - For example if we got a collection of data from one or more steps, we could ask a question such as given the data [insert data] [ask the question]\n",
       "            \n",
       "        The user will supply further instructions for the task.\n",
       "    \n",
       "    *Field info*:\n",
       "    class Plan(BaseModel)\n",
       "  -  id: typing.Union[str, uuid.UUID, NoneType] # A unique hash/uuid for the entity. The name can be hashed if its marked as the key\n",
       "  -  name: typing.Optional[str] # The unique name of the plan node\n",
       "  -  plan_description: <class 'str'> # The plan to prompt the agent - should provide fully strategy and explain what dependencies exist with other stages\n",
       "  -  questions: typing.Optional[typing.List[str]] # The question in this plan instance as the user would ask it. A plan can be constructed without a clear question\n",
       "  -  extra_arguments: typing.Optional[dict] # Placeholder/hint for extra parameters that should be passed from previous stages such as data or identifiers that were discovered in the data and expected by the function either as a parameter or important context\n",
       "  -  functions: typing.Optional[typing.List[funkyprompt.core.agents.Plan.PlanFunctions]] # A collection of functions designed for use with this context\n",
       "  -  depends: typing.Optional[typing.List[funkyprompt.core.agents.Plan.Plan]] # A dependency graph - plans can be chained into waves of functions that can be called in parallel or one after the other. Data dependencies are injected to downstream plans\n",
       "\n",
       "    \n",
       "    \n",
       "        ## Available entity functions\n",
       "        \n",
       "        ```json\n",
       "        [\"<class 'funkyprompt.core.agents.Plan.Plan'>\", \"<class 'funkyprompt.core.functions.Function.Function'>\"]\n",
       "        ```\n",
       "    \n",
       "    "
      ],
      "text/plain": [
       "<IPython.core.display.Markdown object>"
      ]
     },
     "execution_count": 4,
     "metadata": {},
     "output_type": "execute_result"
    }
   ],
   "source": [
    "from IPython.display import Markdown\n",
    "\n",
    "Markdown(e[0].get_model_as_prompt())"
   ]
  },
  {
   "cell_type": "code",
   "execution_count": null,
   "id": "0de9ef66",
   "metadata": {},
   "outputs": [],
   "source": []
  }
 ],
 "metadata": {
  "kernelspec": {
   "display_name": "Python 3 (ipykernel)",
   "language": "python",
   "name": "python3"
  },
  "language_info": {
   "codemirror_mode": {
    "name": "ipython",
    "version": 3
   },
   "file_extension": ".py",
   "mimetype": "text/x-python",
   "name": "python",
   "nbconvert_exporter": "python",
   "pygments_lexer": "ipython3",
   "version": "3.10.10"
  }
 },
 "nbformat": 4,
 "nbformat_minor": 5
}
