{
 "cells": [
  {
   "cell_type": "code",
   "execution_count": 1,
   "id": "2f65e25b",
   "metadata": {},
   "outputs": [],
   "source": [
    "import funkyprompt\n",
    "#from IPython.display import Markdown\n",
    "# from funkyprompt.core import Function, load_entities\n",
    "# from funkyprompt.services import language_model_client_from_context\n",
    "# from funkyprompt.core.agents import MessageStack\n",
    "from funkyprompt.core import AbstractEntity,AbstractModel, ConversationModel\n",
    "#Markdown(load_entities()[0].get_model_as_prompt())\n",
    "# from funkyprompt.core.agents import CallingContext\n",
    "#from funkyprompt.core.agents import Runner\n",
    "# model = language_model_client_from_context()\n",
    "# model('what is the capital of ireland')\n",
    "#funkyprompt.ask(\"what is the capital of ireland\")\n",
    "#r = Runner()\n",
    "#r('what is the capital of ireland')\n",
    "#funkyprompt.run('what is the capital of ireland')\n",
    "#funkyprompt.run('please ask for help and let me know what the status of planning in funkyprompt is')"
   ]
  },
  {
   "cell_type": "code",
   "execution_count": 2,
   "id": "ad187c5b",
   "metadata": {},
   "outputs": [],
   "source": [
    "from funkyprompt.services import entity_store\n",
    "from funkyprompt.core import AbstractModel\n",
    "#entity_store(AbstractModel).execute('select * from information_schema.tables')"
   ]
  },
  {
   "cell_type": "code",
   "execution_count": 3,
   "id": "632f57de",
   "metadata": {},
   "outputs": [],
   "source": [
    "# entity_store(AbstractModel).__drop_table__()\n",
    "# entity_store(AbstractModel)._create_model()"
   ]
  },
  {
   "cell_type": "code",
   "execution_count": 4,
   "id": "3c1c1593",
   "metadata": {},
   "outputs": [],
   "source": [
    "#ConversationModel._register()"
   ]
  },
  {
   "cell_type": "code",
   "execution_count": 5,
   "id": "865b429e",
   "metadata": {},
   "outputs": [
    {
     "name": "stderr",
     "output_type": "stream",
     "text": [
      "\u001b[32m2024-07-27 14:45:25.368\u001b[0m | \u001b[34m\u001b[1mDEBUG   \u001b[0m | \u001b[36mfunkyprompt.core.agents.Runner\u001b[0m:\u001b[36mhelp\u001b[0m:\u001b[36m66\u001b[0m - \u001b[34m\u001b[1mhelp/questions='What is the status of planning in funkyprompt?'\u001b[0m\n"
     ]
    },
    {
     "name": "stdout",
     "output_type": "stream",
     "text": [
      "[{'id': 'faed4d40-aaeb-46f3-afb3-b57411e48f38', 'user_id': 'system', 'objective_node_id': None, 'content': '{\"question\": \"please ask for help and let me know what the status of planning in funkyprompt is\", \"The status of planning in Funkyprompt is currently pending. It is suggested to use world knowledge for now. If you have any specific questions or need assistance with something else, feel free to ask!\": \"The status of planning in Funkyprompt is currently pending. It is suggested to use world knowledge for now. If you have any specific questions or need assistance with something else, feel free to ask!\"}', 'content_embedding': None, 'created_at': datetime.datetime(2024, 7, 27, 14, 45, 26, 197665), 'updated_at': datetime.datetime(2024, 7, 27, 14, 45, 26, 197665), 'deleted_at': None}]\n"
     ]
    },
    {
     "data": {
      "text/plain": [
       "'The status of planning in Funkyprompt is currently pending. It is suggested to use world knowledge for now. If you have any specific questions or need assistance with something else, feel free to ask!'"
      ]
     },
     "execution_count": 5,
     "metadata": {},
     "output_type": "execute_result"
    }
   ],
   "source": [
    "funkyprompt.run('please ask for help and let me know what the status of planning in funkyprompt is')"
   ]
  },
  {
   "cell_type": "code",
   "execution_count": null,
   "id": "893ac9b8",
   "metadata": {},
   "outputs": [],
   "source": []
  }
 ],
 "metadata": {
  "kernelspec": {
   "display_name": "Python 3 (ipykernel)",
   "language": "python",
   "name": "python3"
  },
  "language_info": {
   "codemirror_mode": {
    "name": "ipython",
    "version": 3
   },
   "file_extension": ".py",
   "mimetype": "text/x-python",
   "name": "python",
   "nbconvert_exporter": "python",
   "pygments_lexer": "ipython3",
   "version": "3.10.10"
  }
 },
 "nbformat": 4,
 "nbformat_minor": 5
}
